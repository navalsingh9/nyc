{
    "nbformat_minor": 1, 
    "cells": [
        {
            "execution_count": 1, 
            "cell_type": "code", 
            "metadata": {
                "scrolled": false
            }, 
            "outputs": [
                {
                    "output_type": "display_data", 
                    "data": {
                        "text/html": "<table>\n<thead><tr><th scope=col>id</th><th scope=col>vendor_id</th><th scope=col>pickup_datetime</th><th scope=col>dropoff_datetime</th><th scope=col>passenger_count</th><th scope=col>pickup_longitude</th><th scope=col>pickup_latitude</th><th scope=col>dropoff_longitude</th><th scope=col>dropoff_latitude</th><th scope=col>store_and_fwd_flag</th><th scope=col>trip_duration</th></tr></thead>\n<tbody>\n\t<tr><td>id2875421          </td><td>2                  </td><td>2016-03-14 17:24:55</td><td>2016-03-14 17:32:30</td><td>1                  </td><td>-73.98215          </td><td>40.76794           </td><td>-73.96463          </td><td>40.76560           </td><td>N                  </td><td> 455               </td></tr>\n\t<tr><td>id2377394          </td><td>1                  </td><td>2016-06-12 00:43:35</td><td>2016-06-12 00:54:38</td><td>1                  </td><td>-73.98042          </td><td>40.73856           </td><td>-73.99948          </td><td>40.73115           </td><td>N                  </td><td> 663               </td></tr>\n\t<tr><td>id3858529          </td><td>2                  </td><td>2016-01-19 11:35:24</td><td>2016-01-19 12:10:48</td><td>1                  </td><td>-73.97903          </td><td>40.76394           </td><td>-74.00533          </td><td>40.71009           </td><td>N                  </td><td>2124               </td></tr>\n\t<tr><td>id3504673          </td><td>2                  </td><td>2016-04-06 19:32:31</td><td>2016-04-06 19:39:40</td><td>1                  </td><td>-74.01004          </td><td>40.71997           </td><td>-74.01227          </td><td>40.70672           </td><td>N                  </td><td> 429               </td></tr>\n\t<tr><td>id2181028          </td><td>2                  </td><td>2016-03-26 13:30:55</td><td>2016-03-26 13:38:10</td><td>1                  </td><td>-73.97305          </td><td>40.79321           </td><td>-73.97292          </td><td>40.78252           </td><td>N                  </td><td> 435               </td></tr>\n\t<tr><td>id0801584          </td><td>2                  </td><td>2016-01-30 22:01:40</td><td>2016-01-30 22:09:03</td><td>6                  </td><td>-73.98286          </td><td>40.74220           </td><td>-73.99208          </td><td>40.74918           </td><td>N                  </td><td> 443               </td></tr>\n</tbody>\n</table>\n", 
                        "text/latex": "\\begin{tabular}{r|lllllllllll}\n id & vendor\\_id & pickup\\_datetime & dropoff\\_datetime & passenger\\_count & pickup\\_longitude & pickup\\_latitude & dropoff\\_longitude & dropoff\\_latitude & store\\_and\\_fwd\\_flag & trip\\_duration\\\\\n\\hline\n\t id2875421           & 2                   & 2016-03-14 17:24:55 & 2016-03-14 17:32:30 & 1                   & -73.98215           & 40.76794            & -73.96463           & 40.76560            & N                   &  455               \\\\\n\t id2377394           & 1                   & 2016-06-12 00:43:35 & 2016-06-12 00:54:38 & 1                   & -73.98042           & 40.73856            & -73.99948           & 40.73115            & N                   &  663               \\\\\n\t id3858529           & 2                   & 2016-01-19 11:35:24 & 2016-01-19 12:10:48 & 1                   & -73.97903           & 40.76394            & -74.00533           & 40.71009            & N                   & 2124               \\\\\n\t id3504673           & 2                   & 2016-04-06 19:32:31 & 2016-04-06 19:39:40 & 1                   & -74.01004           & 40.71997            & -74.01227           & 40.70672            & N                   &  429               \\\\\n\t id2181028           & 2                   & 2016-03-26 13:30:55 & 2016-03-26 13:38:10 & 1                   & -73.97305           & 40.79321            & -73.97292           & 40.78252            & N                   &  435               \\\\\n\t id0801584           & 2                   & 2016-01-30 22:01:40 & 2016-01-30 22:09:03 & 6                   & -73.98286           & 40.74220            & -73.99208           & 40.74918            & N                   &  443               \\\\\n\\end{tabular}\n", 
                        "text/markdown": "\nid | vendor_id | pickup_datetime | dropoff_datetime | passenger_count | pickup_longitude | pickup_latitude | dropoff_longitude | dropoff_latitude | store_and_fwd_flag | trip_duration | \n|---|---|---|---|---|---|\n| id2875421           | 2                   | 2016-03-14 17:24:55 | 2016-03-14 17:32:30 | 1                   | -73.98215           | 40.76794            | -73.96463           | 40.76560            | N                   |  455                | \n| id2377394           | 1                   | 2016-06-12 00:43:35 | 2016-06-12 00:54:38 | 1                   | -73.98042           | 40.73856            | -73.99948           | 40.73115            | N                   |  663                | \n| id3858529           | 2                   | 2016-01-19 11:35:24 | 2016-01-19 12:10:48 | 1                   | -73.97903           | 40.76394            | -74.00533           | 40.71009            | N                   | 2124                | \n| id3504673           | 2                   | 2016-04-06 19:32:31 | 2016-04-06 19:39:40 | 1                   | -74.01004           | 40.71997            | -74.01227           | 40.70672            | N                   |  429                | \n| id2181028           | 2                   | 2016-03-26 13:30:55 | 2016-03-26 13:38:10 | 1                   | -73.97305           | 40.79321            | -73.97292           | 40.78252            | N                   |  435                | \n| id0801584           | 2                   | 2016-01-30 22:01:40 | 2016-01-30 22:09:03 | 6                   | -73.98286           | 40.74220            | -73.99208           | 40.74918            | N                   |  443                | \n\n\n", 
                        "text/plain": "  id        vendor_id pickup_datetime     dropoff_datetime    passenger_count\n1 id2875421 2         2016-03-14 17:24:55 2016-03-14 17:32:30 1              \n2 id2377394 1         2016-06-12 00:43:35 2016-06-12 00:54:38 1              \n3 id3858529 2         2016-01-19 11:35:24 2016-01-19 12:10:48 1              \n4 id3504673 2         2016-04-06 19:32:31 2016-04-06 19:39:40 1              \n5 id2181028 2         2016-03-26 13:30:55 2016-03-26 13:38:10 1              \n6 id0801584 2         2016-01-30 22:01:40 2016-01-30 22:09:03 6              \n  pickup_longitude pickup_latitude dropoff_longitude dropoff_latitude\n1 -73.98215        40.76794        -73.96463         40.76560        \n2 -73.98042        40.73856        -73.99948         40.73115        \n3 -73.97903        40.76394        -74.00533         40.71009        \n4 -74.01004        40.71997        -74.01227         40.70672        \n5 -73.97305        40.79321        -73.97292         40.78252        \n6 -73.98286        40.74220        -73.99208         40.74918        \n  store_and_fwd_flag trip_duration\n1 N                   455         \n2 N                   663         \n3 N                  2124         \n4 N                   429         \n5 N                   435         \n6 N                   443         "
                    }, 
                    "metadata": {}
                }
            ], 
            "source": "# The code was removed by DSX for sharing."
        }, 
        {
            "execution_count": 2, 
            "cell_type": "code", 
            "metadata": {}, 
            "outputs": [], 
            "source": "data=df.data.1"
        }, 
        {
            "execution_count": 3, 
            "cell_type": "code", 
            "metadata": {}, 
            "outputs": [
                {
                    "output_type": "display_data", 
                    "data": {
                        "text/html": "<table>\n<thead><tr><th scope=col>id</th><th scope=col>vendor_id</th><th scope=col>pickup_datetime</th><th scope=col>dropoff_datetime</th><th scope=col>passenger_count</th><th scope=col>pickup_longitude</th><th scope=col>pickup_latitude</th><th scope=col>dropoff_longitude</th><th scope=col>dropoff_latitude</th><th scope=col>store_and_fwd_flag</th><th scope=col>trip_duration</th></tr></thead>\n<tbody>\n\t<tr><td>id2875421          </td><td>2                  </td><td>2016-03-14 17:24:55</td><td>2016-03-14 17:32:30</td><td>1                  </td><td>-73.98215          </td><td>40.76794           </td><td>-73.96463          </td><td>40.76560           </td><td>N                  </td><td> 455               </td></tr>\n\t<tr><td>id2377394          </td><td>1                  </td><td>2016-06-12 00:43:35</td><td>2016-06-12 00:54:38</td><td>1                  </td><td>-73.98042          </td><td>40.73856           </td><td>-73.99948          </td><td>40.73115           </td><td>N                  </td><td> 663               </td></tr>\n\t<tr><td>id3858529          </td><td>2                  </td><td>2016-01-19 11:35:24</td><td>2016-01-19 12:10:48</td><td>1                  </td><td>-73.97903          </td><td>40.76394           </td><td>-74.00533          </td><td>40.71009           </td><td>N                  </td><td>2124               </td></tr>\n\t<tr><td>id3504673          </td><td>2                  </td><td>2016-04-06 19:32:31</td><td>2016-04-06 19:39:40</td><td>1                  </td><td>-74.01004          </td><td>40.71997           </td><td>-74.01227          </td><td>40.70672           </td><td>N                  </td><td> 429               </td></tr>\n\t<tr><td>id2181028          </td><td>2                  </td><td>2016-03-26 13:30:55</td><td>2016-03-26 13:38:10</td><td>1                  </td><td>-73.97305          </td><td>40.79321           </td><td>-73.97292          </td><td>40.78252           </td><td>N                  </td><td> 435               </td></tr>\n\t<tr><td>id0801584          </td><td>2                  </td><td>2016-01-30 22:01:40</td><td>2016-01-30 22:09:03</td><td>6                  </td><td>-73.98286          </td><td>40.74220           </td><td>-73.99208          </td><td>40.74918           </td><td>N                  </td><td> 443               </td></tr>\n</tbody>\n</table>\n", 
                        "text/latex": "\\begin{tabular}{r|lllllllllll}\n id & vendor\\_id & pickup\\_datetime & dropoff\\_datetime & passenger\\_count & pickup\\_longitude & pickup\\_latitude & dropoff\\_longitude & dropoff\\_latitude & store\\_and\\_fwd\\_flag & trip\\_duration\\\\\n\\hline\n\t id2875421           & 2                   & 2016-03-14 17:24:55 & 2016-03-14 17:32:30 & 1                   & -73.98215           & 40.76794            & -73.96463           & 40.76560            & N                   &  455               \\\\\n\t id2377394           & 1                   & 2016-06-12 00:43:35 & 2016-06-12 00:54:38 & 1                   & -73.98042           & 40.73856            & -73.99948           & 40.73115            & N                   &  663               \\\\\n\t id3858529           & 2                   & 2016-01-19 11:35:24 & 2016-01-19 12:10:48 & 1                   & -73.97903           & 40.76394            & -74.00533           & 40.71009            & N                   & 2124               \\\\\n\t id3504673           & 2                   & 2016-04-06 19:32:31 & 2016-04-06 19:39:40 & 1                   & -74.01004           & 40.71997            & -74.01227           & 40.70672            & N                   &  429               \\\\\n\t id2181028           & 2                   & 2016-03-26 13:30:55 & 2016-03-26 13:38:10 & 1                   & -73.97305           & 40.79321            & -73.97292           & 40.78252            & N                   &  435               \\\\\n\t id0801584           & 2                   & 2016-01-30 22:01:40 & 2016-01-30 22:09:03 & 6                   & -73.98286           & 40.74220            & -73.99208           & 40.74918            & N                   &  443               \\\\\n\\end{tabular}\n", 
                        "text/markdown": "\nid | vendor_id | pickup_datetime | dropoff_datetime | passenger_count | pickup_longitude | pickup_latitude | dropoff_longitude | dropoff_latitude | store_and_fwd_flag | trip_duration | \n|---|---|---|---|---|---|\n| id2875421           | 2                   | 2016-03-14 17:24:55 | 2016-03-14 17:32:30 | 1                   | -73.98215           | 40.76794            | -73.96463           | 40.76560            | N                   |  455                | \n| id2377394           | 1                   | 2016-06-12 00:43:35 | 2016-06-12 00:54:38 | 1                   | -73.98042           | 40.73856            | -73.99948           | 40.73115            | N                   |  663                | \n| id3858529           | 2                   | 2016-01-19 11:35:24 | 2016-01-19 12:10:48 | 1                   | -73.97903           | 40.76394            | -74.00533           | 40.71009            | N                   | 2124                | \n| id3504673           | 2                   | 2016-04-06 19:32:31 | 2016-04-06 19:39:40 | 1                   | -74.01004           | 40.71997            | -74.01227           | 40.70672            | N                   |  429                | \n| id2181028           | 2                   | 2016-03-26 13:30:55 | 2016-03-26 13:38:10 | 1                   | -73.97305           | 40.79321            | -73.97292           | 40.78252            | N                   |  435                | \n| id0801584           | 2                   | 2016-01-30 22:01:40 | 2016-01-30 22:09:03 | 6                   | -73.98286           | 40.74220            | -73.99208           | 40.74918            | N                   |  443                | \n\n\n", 
                        "text/plain": "  id        vendor_id pickup_datetime     dropoff_datetime    passenger_count\n1 id2875421 2         2016-03-14 17:24:55 2016-03-14 17:32:30 1              \n2 id2377394 1         2016-06-12 00:43:35 2016-06-12 00:54:38 1              \n3 id3858529 2         2016-01-19 11:35:24 2016-01-19 12:10:48 1              \n4 id3504673 2         2016-04-06 19:32:31 2016-04-06 19:39:40 1              \n5 id2181028 2         2016-03-26 13:30:55 2016-03-26 13:38:10 1              \n6 id0801584 2         2016-01-30 22:01:40 2016-01-30 22:09:03 6              \n  pickup_longitude pickup_latitude dropoff_longitude dropoff_latitude\n1 -73.98215        40.76794        -73.96463         40.76560        \n2 -73.98042        40.73856        -73.99948         40.73115        \n3 -73.97903        40.76394        -74.00533         40.71009        \n4 -74.01004        40.71997        -74.01227         40.70672        \n5 -73.97305        40.79321        -73.97292         40.78252        \n6 -73.98286        40.74220        -73.99208         40.74918        \n  store_and_fwd_flag trip_duration\n1 N                   455         \n2 N                   663         \n3 N                  2124         \n4 N                   429         \n5 N                   435         \n6 N                   443         "
                    }, 
                    "metadata": {}
                }
            ], 
            "source": "head(data)"
        }, 
        {
            "execution_count": 4, 
            "cell_type": "code", 
            "metadata": {}, 
            "outputs": [
                {
                    "output_type": "display_data", 
                    "data": {
                        "text/html": "<table>\n<thead><tr><th scope=col>id</th><th scope=col>vendor_id</th><th scope=col>pickup_datetime</th><th scope=col>dropoff_datetime</th><th scope=col>passenger_count</th><th scope=col>pickup_longitude</th><th scope=col>pickup_latitude</th><th scope=col>dropoff_longitude</th><th scope=col>dropoff_latitude</th><th scope=col>store_and_fwd_flag</th><th scope=col>trip_duration</th></tr></thead>\n<tbody>\n\t<tr><td>id2875421          </td><td>2                  </td><td>2016-03-14 17:24:55</td><td>2016-03-14 17:32:30</td><td>1                  </td><td>-73.98215          </td><td>40.76794           </td><td>-73.96463          </td><td>40.76560           </td><td>N                  </td><td> 455               </td></tr>\n\t<tr><td>id2377394          </td><td>1                  </td><td>2016-06-12 00:43:35</td><td>2016-06-12 00:54:38</td><td>1                  </td><td>-73.98042          </td><td>40.73856           </td><td>-73.99948          </td><td>40.73115           </td><td>N                  </td><td> 663               </td></tr>\n\t<tr><td>id3858529          </td><td>2                  </td><td>2016-01-19 11:35:24</td><td>2016-01-19 12:10:48</td><td>1                  </td><td>-73.97903          </td><td>40.76394           </td><td>-74.00533          </td><td>40.71009           </td><td>N                  </td><td>2124               </td></tr>\n\t<tr><td>id3504673          </td><td>2                  </td><td>2016-04-06 19:32:31</td><td>2016-04-06 19:39:40</td><td>1                  </td><td>-74.01004          </td><td>40.71997           </td><td>-74.01227          </td><td>40.70672           </td><td>N                  </td><td> 429               </td></tr>\n\t<tr><td>id2181028          </td><td>2                  </td><td>2016-03-26 13:30:55</td><td>2016-03-26 13:38:10</td><td>1                  </td><td>-73.97305          </td><td>40.79321           </td><td>-73.97292          </td><td>40.78252           </td><td>N                  </td><td> 435               </td></tr>\n\t<tr><td>id0801584          </td><td>2                  </td><td>2016-01-30 22:01:40</td><td>2016-01-30 22:09:03</td><td>6                  </td><td>-73.98286          </td><td>40.74220           </td><td>-73.99208          </td><td>40.74918           </td><td>N                  </td><td> 443               </td></tr>\n</tbody>\n</table>\n", 
                        "text/latex": "\\begin{tabular}{r|lllllllllll}\n id & vendor\\_id & pickup\\_datetime & dropoff\\_datetime & passenger\\_count & pickup\\_longitude & pickup\\_latitude & dropoff\\_longitude & dropoff\\_latitude & store\\_and\\_fwd\\_flag & trip\\_duration\\\\\n\\hline\n\t id2875421           & 2                   & 2016-03-14 17:24:55 & 2016-03-14 17:32:30 & 1                   & -73.98215           & 40.76794            & -73.96463           & 40.76560            & N                   &  455               \\\\\n\t id2377394           & 1                   & 2016-06-12 00:43:35 & 2016-06-12 00:54:38 & 1                   & -73.98042           & 40.73856            & -73.99948           & 40.73115            & N                   &  663               \\\\\n\t id3858529           & 2                   & 2016-01-19 11:35:24 & 2016-01-19 12:10:48 & 1                   & -73.97903           & 40.76394            & -74.00533           & 40.71009            & N                   & 2124               \\\\\n\t id3504673           & 2                   & 2016-04-06 19:32:31 & 2016-04-06 19:39:40 & 1                   & -74.01004           & 40.71997            & -74.01227           & 40.70672            & N                   &  429               \\\\\n\t id2181028           & 2                   & 2016-03-26 13:30:55 & 2016-03-26 13:38:10 & 1                   & -73.97305           & 40.79321            & -73.97292           & 40.78252            & N                   &  435               \\\\\n\t id0801584           & 2                   & 2016-01-30 22:01:40 & 2016-01-30 22:09:03 & 6                   & -73.98286           & 40.74220            & -73.99208           & 40.74918            & N                   &  443               \\\\\n\\end{tabular}\n", 
                        "text/markdown": "\nid | vendor_id | pickup_datetime | dropoff_datetime | passenger_count | pickup_longitude | pickup_latitude | dropoff_longitude | dropoff_latitude | store_and_fwd_flag | trip_duration | \n|---|---|---|---|---|---|\n| id2875421           | 2                   | 2016-03-14 17:24:55 | 2016-03-14 17:32:30 | 1                   | -73.98215           | 40.76794            | -73.96463           | 40.76560            | N                   |  455                | \n| id2377394           | 1                   | 2016-06-12 00:43:35 | 2016-06-12 00:54:38 | 1                   | -73.98042           | 40.73856            | -73.99948           | 40.73115            | N                   |  663                | \n| id3858529           | 2                   | 2016-01-19 11:35:24 | 2016-01-19 12:10:48 | 1                   | -73.97903           | 40.76394            | -74.00533           | 40.71009            | N                   | 2124                | \n| id3504673           | 2                   | 2016-04-06 19:32:31 | 2016-04-06 19:39:40 | 1                   | -74.01004           | 40.71997            | -74.01227           | 40.70672            | N                   |  429                | \n| id2181028           | 2                   | 2016-03-26 13:30:55 | 2016-03-26 13:38:10 | 1                   | -73.97305           | 40.79321            | -73.97292           | 40.78252            | N                   |  435                | \n| id0801584           | 2                   | 2016-01-30 22:01:40 | 2016-01-30 22:09:03 | 6                   | -73.98286           | 40.74220            | -73.99208           | 40.74918            | N                   |  443                | \n\n\n", 
                        "text/plain": "  id        vendor_id pickup_datetime     dropoff_datetime    passenger_count\n1 id2875421 2         2016-03-14 17:24:55 2016-03-14 17:32:30 1              \n2 id2377394 1         2016-06-12 00:43:35 2016-06-12 00:54:38 1              \n3 id3858529 2         2016-01-19 11:35:24 2016-01-19 12:10:48 1              \n4 id3504673 2         2016-04-06 19:32:31 2016-04-06 19:39:40 1              \n5 id2181028 2         2016-03-26 13:30:55 2016-03-26 13:38:10 1              \n6 id0801584 2         2016-01-30 22:01:40 2016-01-30 22:09:03 6              \n  pickup_longitude pickup_latitude dropoff_longitude dropoff_latitude\n1 -73.98215        40.76794        -73.96463         40.76560        \n2 -73.98042        40.73856        -73.99948         40.73115        \n3 -73.97903        40.76394        -74.00533         40.71009        \n4 -74.01004        40.71997        -74.01227         40.70672        \n5 -73.97305        40.79321        -73.97292         40.78252        \n6 -73.98286        40.74220        -73.99208         40.74918        \n  store_and_fwd_flag trip_duration\n1 N                   455         \n2 N                   663         \n3 N                  2124         \n4 N                   429         \n5 N                   435         \n6 N                   443         "
                    }, 
                    "metadata": {}
                }
            ], 
            "source": "head(df.data.1)"
        }, 
        {
            "execution_count": 5, 
            "cell_type": "code", 
            "metadata": {}, 
            "outputs": [
                {
                    "output_type": "display_data", 
                    "data": {
                        "text/html": "<table>\n<thead><tr><th scope=col>id</th><th scope=col>vendor_id</th><th scope=col>pickup_datetime</th><th scope=col>dropoff_datetime</th><th scope=col>passenger_count</th><th scope=col>pickup_longitude</th><th scope=col>pickup_latitude</th><th scope=col>dropoff_longitude</th><th scope=col>dropoff_latitude</th><th scope=col>store_and_fwd_flag</th><th scope=col>trip_duration</th></tr></thead>\n<tbody>\n\t<tr><td>id2875421          </td><td>2                  </td><td>2016-03-14 17:24:55</td><td>2016-03-14 17:32:30</td><td>1                  </td><td>-73.98215          </td><td>40.76794           </td><td>-73.96463          </td><td>40.76560           </td><td>N                  </td><td> 455               </td></tr>\n\t<tr><td>id2377394          </td><td>1                  </td><td>2016-06-12 00:43:35</td><td>2016-06-12 00:54:38</td><td>1                  </td><td>-73.98042          </td><td>40.73856           </td><td>-73.99948          </td><td>40.73115           </td><td>N                  </td><td> 663               </td></tr>\n\t<tr><td>id3858529          </td><td>2                  </td><td>2016-01-19 11:35:24</td><td>2016-01-19 12:10:48</td><td>1                  </td><td>-73.97903          </td><td>40.76394           </td><td>-74.00533          </td><td>40.71009           </td><td>N                  </td><td>2124               </td></tr>\n\t<tr><td>id3504673          </td><td>2                  </td><td>2016-04-06 19:32:31</td><td>2016-04-06 19:39:40</td><td>1                  </td><td>-74.01004          </td><td>40.71997           </td><td>-74.01227          </td><td>40.70672           </td><td>N                  </td><td> 429               </td></tr>\n\t<tr><td>id2181028          </td><td>2                  </td><td>2016-03-26 13:30:55</td><td>2016-03-26 13:38:10</td><td>1                  </td><td>-73.97305          </td><td>40.79321           </td><td>-73.97292          </td><td>40.78252           </td><td>N                  </td><td> 435               </td></tr>\n\t<tr><td>id0801584          </td><td>2                  </td><td>2016-01-30 22:01:40</td><td>2016-01-30 22:09:03</td><td>6                  </td><td>-73.98286          </td><td>40.74220           </td><td>-73.99208          </td><td>40.74918           </td><td>N                  </td><td> 443               </td></tr>\n</tbody>\n</table>\n", 
                        "text/latex": "\\begin{tabular}{r|lllllllllll}\n id & vendor\\_id & pickup\\_datetime & dropoff\\_datetime & passenger\\_count & pickup\\_longitude & pickup\\_latitude & dropoff\\_longitude & dropoff\\_latitude & store\\_and\\_fwd\\_flag & trip\\_duration\\\\\n\\hline\n\t id2875421           & 2                   & 2016-03-14 17:24:55 & 2016-03-14 17:32:30 & 1                   & -73.98215           & 40.76794            & -73.96463           & 40.76560            & N                   &  455               \\\\\n\t id2377394           & 1                   & 2016-06-12 00:43:35 & 2016-06-12 00:54:38 & 1                   & -73.98042           & 40.73856            & -73.99948           & 40.73115            & N                   &  663               \\\\\n\t id3858529           & 2                   & 2016-01-19 11:35:24 & 2016-01-19 12:10:48 & 1                   & -73.97903           & 40.76394            & -74.00533           & 40.71009            & N                   & 2124               \\\\\n\t id3504673           & 2                   & 2016-04-06 19:32:31 & 2016-04-06 19:39:40 & 1                   & -74.01004           & 40.71997            & -74.01227           & 40.70672            & N                   &  429               \\\\\n\t id2181028           & 2                   & 2016-03-26 13:30:55 & 2016-03-26 13:38:10 & 1                   & -73.97305           & 40.79321            & -73.97292           & 40.78252            & N                   &  435               \\\\\n\t id0801584           & 2                   & 2016-01-30 22:01:40 & 2016-01-30 22:09:03 & 6                   & -73.98286           & 40.74220            & -73.99208           & 40.74918            & N                   &  443               \\\\\n\\end{tabular}\n", 
                        "text/markdown": "\nid | vendor_id | pickup_datetime | dropoff_datetime | passenger_count | pickup_longitude | pickup_latitude | dropoff_longitude | dropoff_latitude | store_and_fwd_flag | trip_duration | \n|---|---|---|---|---|---|\n| id2875421           | 2                   | 2016-03-14 17:24:55 | 2016-03-14 17:32:30 | 1                   | -73.98215           | 40.76794            | -73.96463           | 40.76560            | N                   |  455                | \n| id2377394           | 1                   | 2016-06-12 00:43:35 | 2016-06-12 00:54:38 | 1                   | -73.98042           | 40.73856            | -73.99948           | 40.73115            | N                   |  663                | \n| id3858529           | 2                   | 2016-01-19 11:35:24 | 2016-01-19 12:10:48 | 1                   | -73.97903           | 40.76394            | -74.00533           | 40.71009            | N                   | 2124                | \n| id3504673           | 2                   | 2016-04-06 19:32:31 | 2016-04-06 19:39:40 | 1                   | -74.01004           | 40.71997            | -74.01227           | 40.70672            | N                   |  429                | \n| id2181028           | 2                   | 2016-03-26 13:30:55 | 2016-03-26 13:38:10 | 1                   | -73.97305           | 40.79321            | -73.97292           | 40.78252            | N                   |  435                | \n| id0801584           | 2                   | 2016-01-30 22:01:40 | 2016-01-30 22:09:03 | 6                   | -73.98286           | 40.74220            | -73.99208           | 40.74918            | N                   |  443                | \n\n\n", 
                        "text/plain": "  id        vendor_id pickup_datetime     dropoff_datetime    passenger_count\n1 id2875421 2         2016-03-14 17:24:55 2016-03-14 17:32:30 1              \n2 id2377394 1         2016-06-12 00:43:35 2016-06-12 00:54:38 1              \n3 id3858529 2         2016-01-19 11:35:24 2016-01-19 12:10:48 1              \n4 id3504673 2         2016-04-06 19:32:31 2016-04-06 19:39:40 1              \n5 id2181028 2         2016-03-26 13:30:55 2016-03-26 13:38:10 1              \n6 id0801584 2         2016-01-30 22:01:40 2016-01-30 22:09:03 6              \n  pickup_longitude pickup_latitude dropoff_longitude dropoff_latitude\n1 -73.98215        40.76794        -73.96463         40.76560        \n2 -73.98042        40.73856        -73.99948         40.73115        \n3 -73.97903        40.76394        -74.00533         40.71009        \n4 -74.01004        40.71997        -74.01227         40.70672        \n5 -73.97305        40.79321        -73.97292         40.78252        \n6 -73.98286        40.74220        -73.99208         40.74918        \n  store_and_fwd_flag trip_duration\n1 N                   455         \n2 N                   663         \n3 N                  2124         \n4 N                   429         \n5 N                   435         \n6 N                   443         "
                    }, 
                    "metadata": {}
                }
            ], 
            "source": "head(data)"
        }, 
        {
            "execution_count": 6, 
            "cell_type": "code", 
            "metadata": {}, 
            "outputs": [
                {
                    "ename": "ERROR", 
                    "evalue": "Error in is.date(data$pickup_datetime): could not find function \"is.date\"\n", 
                    "traceback": [
                        "Error in is.date(data$pickup_datetime): could not find function \"is.date\"\nTraceback:\n"
                    ], 
                    "output_type": "error"
                }
            ], 
            "source": "is.date(data$pickup_datetime)"
        }, 
        {
            "execution_count": 7, 
            "cell_type": "code", 
            "metadata": {}, 
            "outputs": [
                {
                    "ename": "ERROR", 
                    "evalue": "Error in is.Date(data$pickup_datetime): could not find function \"is.Date\"\n", 
                    "traceback": [
                        "Error in is.Date(data$pickup_datetime): could not find function \"is.Date\"\nTraceback:\n"
                    ], 
                    "output_type": "error"
                }
            ], 
            "source": "is.Date(data$pickup_datetime)"
        }, 
        {
            "execution_count": 8, 
            "cell_type": "code", 
            "metadata": {}, 
            "outputs": [
                {
                    "output_type": "stream", 
                    "name": "stdout", 
                    "text": "'data.frame':\t1458644 obs. of  11 variables:\n $ id                : Factor w/ 1458644 levels \"id0000001\",\"id0000003\",..: 1049146 867656 1406900 1278210 796093 292638 661964 483844 475304 4611 ...\n $ vendor_id         : int  2 1 2 2 2 2 1 2 1 2 ...\n $ pickup_datetime   : Factor w/ 1380222 levels \"2016-01-01 00:00:17\",..: 551678 1242713 132901 730931 643837 209696 1285977 1082041 1132744 521413 ...\n $ dropoff_datetime  : Factor w/ 1380377 levels \"2016-01-01 00:03:31\",..: 551465 1242869 132996 730737 643622 209505 1286059 1082285 1132790 521374 ...\n $ passenger_count   : int  1 1 1 1 1 6 4 1 1 1 ...\n $ pickup_longitude  : num  -74 -74 -74 -74 -74 ...\n $ pickup_latitude   : num  40.8 40.7 40.8 40.7 40.8 ...\n $ dropoff_longitude : num  -74 -74 -74 -74 -74 ...\n $ dropoff_latitude  : num  40.8 40.7 40.7 40.7 40.8 ...\n $ store_and_fwd_flag: Factor w/ 2 levels \"N\",\"Y\": 1 1 1 1 1 1 1 1 1 1 ...\n $ trip_duration     : int  455 663 2124 429 435 443 341 1551 255 1225 ...\n"
                }
            ], 
            "source": "str(data)"
        }, 
        {
            "execution_count": 9, 
            "cell_type": "code", 
            "metadata": {}, 
            "outputs": [
                {
                    "output_type": "display_data", 
                    "data": {
                        "text/html": "<time datetime=\"2016-03-14\">2016-03-14</time>", 
                        "text/latex": "2016-03-14", 
                        "text/markdown": "2016-03-14", 
                        "text/plain": "[1] \"2016-03-14\""
                    }, 
                    "metadata": {}
                }
            ], 
            "source": "as.Date(data$pickup_datetime[1])"
        }, 
        {
            "execution_count": 10, 
            "cell_type": "code", 
            "metadata": {}, 
            "outputs": [
                {
                    "output_type": "display_data", 
                    "data": {
                        "text/html": "<time datetime=\"&lt;NA&gt;\">&lt;NA&gt;</time>", 
                        "text/latex": "<NA>", 
                        "text/markdown": "&lt;NA&gt;", 
                        "text/plain": "[1] NA"
                    }, 
                    "metadata": {}
                }
            ], 
            "source": "as.Date(data$pickup_datetime[1],format=\"%y-%m-%d hh:mm:ss\")"
        }, 
        {
            "execution_count": 11, 
            "cell_type": "code", 
            "metadata": {}, 
            "outputs": [
                {
                    "output_type": "display_data", 
                    "data": {
                        "text/html": "<time datetime=\"&lt;NA&gt;\">&lt;NA&gt;</time>", 
                        "text/latex": "<NA>", 
                        "text/markdown": "&lt;NA&gt;", 
                        "text/plain": "[1] NA"
                    }, 
                    "metadata": {}
                }
            ], 
            "source": "as.Date(data$pickup_datetime[1],format=\"%Y-%m-%d hh:mm:ss\")"
        }, 
        {
            "execution_count": 12, 
            "cell_type": "code", 
            "metadata": {}, 
            "outputs": [
                {
                    "output_type": "display_data", 
                    "data": {
                        "text/html": "<time datetime=\"2016-03-14\">2016-03-14</time>", 
                        "text/latex": "2016-03-14", 
                        "text/markdown": "2016-03-14", 
                        "text/plain": "[1] \"2016-03-14\""
                    }, 
                    "metadata": {}
                }
            ], 
            "source": "as.Date(data$pickup_datetime[1],format=\"%Y-%m-%d\")"
        }, 
        {
            "execution_count": 13, 
            "cell_type": "code", 
            "metadata": {}, 
            "outputs": [
                {
                    "output_type": "stream", 
                    "name": "stderr", 
                    "text": "\nAttaching package: \u2018lubridate\u2019\n\nThe following object is masked from \u2018package:base\u2019:\n\n    date\n\n"
                }
            ], 
            "source": "library(lubridate)"
        }, 
        {
            "execution_count": 14, 
            "cell_type": "code", 
            "metadata": {}, 
            "outputs": [
                {
                    "output_type": "stream", 
                    "name": "stderr", 
                    "text": "Warning message:\n\u201cAll formats failed to parse. No formats found.\u201d"
                }, 
                {
                    "output_type": "display_data", 
                    "data": {
                        "text/plain": "[1] NA"
                    }, 
                    "metadata": {}
                }
            ], 
            "source": "mdy_hms(data$pickup_datetime[1])"
        }, 
        {
            "execution_count": 15, 
            "cell_type": "code", 
            "metadata": {}, 
            "outputs": [
                {
                    "output_type": "display_data", 
                    "data": {
                        "text/html": "<time datetime=\"2016-03-14\">2016-03-14</time>", 
                        "text/latex": "2016-03-14", 
                        "text/markdown": "2016-03-14", 
                        "text/plain": "[1] \"2016-03-14\""
                    }, 
                    "metadata": {}
                }
            ], 
            "source": "as.Date(data$pickup_datetime[1],format=\"%Y-%m-%d %H:%M:%S\")"
        }, 
        {
            "execution_count": 16, 
            "cell_type": "code", 
            "metadata": {}, 
            "outputs": [
                {
                    "output_type": "display_data", 
                    "data": {
                        "text/html": "NA", 
                        "text/latex": "NA", 
                        "text/markdown": "NA", 
                        "text/plain": "[1] NA"
                    }, 
                    "metadata": {}
                }
            ], 
            "source": "format(as.POSIXct(strptime(data$pickup_datetime[1],\"%d/%m/%Y %H:%M\",tz=\"\")) ,format = \"%H:%M\")"
        }, 
        {
            "execution_count": 17, 
            "cell_type": "code", 
            "metadata": {}, 
            "outputs": [
                {
                    "output_type": "display_data", 
                    "data": {
                        "text/html": "'17:24'", 
                        "text/latex": "'17:24'", 
                        "text/markdown": "'17:24'", 
                        "text/plain": "[1] \"17:24\""
                    }, 
                    "metadata": {}
                }
            ], 
            "source": "format(as.POSIXct(strptime(data$pickup_datetime[1],\"%Y-%m-%d %H:%M:%S\",tz=\"\")) ,format = \"%H:%M\")"
        }, 
        {
            "execution_count": 18, 
            "cell_type": "code", 
            "metadata": {}, 
            "outputs": [
                {
                    "output_type": "display_data", 
                    "data": {
                        "text/html": "'17:24:55'", 
                        "text/latex": "'17:24:55'", 
                        "text/markdown": "'17:24:55'", 
                        "text/plain": "[1] \"17:24:55\""
                    }, 
                    "metadata": {}
                }
            ], 
            "source": "format(as.POSIXct(strptime(data$pickup_datetime[1],\"%Y-%m-%d %H:%M:%S\",tz=\"\")) ,format = \"%H:%M:%S\")"
        }, 
        {
            "execution_count": 19, 
            "cell_type": "code", 
            "metadata": {
                "scrolled": true
            }, 
            "outputs": [
                {
                    "output_type": "display_data", 
                    "data": {
                        "text/html": "<table>\n<thead><tr><th scope=col>id</th><th scope=col>vendor_id</th><th scope=col>pickup_datetime</th><th scope=col>dropoff_datetime</th><th scope=col>passenger_count</th><th scope=col>pickup_longitude</th><th scope=col>pickup_latitude</th><th scope=col>dropoff_longitude</th><th scope=col>dropoff_latitude</th><th scope=col>store_and_fwd_flag</th><th scope=col>trip_duration</th></tr></thead>\n<tbody>\n\t<tr><td>id2875421          </td><td>2                  </td><td>2016-03-14 17:24:55</td><td>2016-03-14 17:32:30</td><td>1                  </td><td>-73.98215          </td><td>40.76794           </td><td>-73.96463          </td><td>40.76560           </td><td>N                  </td><td> 455               </td></tr>\n\t<tr><td>id2377394          </td><td>1                  </td><td>2016-06-12 00:43:35</td><td>2016-06-12 00:54:38</td><td>1                  </td><td>-73.98042          </td><td>40.73856           </td><td>-73.99948          </td><td>40.73115           </td><td>N                  </td><td> 663               </td></tr>\n\t<tr><td>id3858529          </td><td>2                  </td><td>2016-01-19 11:35:24</td><td>2016-01-19 12:10:48</td><td>1                  </td><td>-73.97903          </td><td>40.76394           </td><td>-74.00533          </td><td>40.71009           </td><td>N                  </td><td>2124               </td></tr>\n\t<tr><td>id3504673          </td><td>2                  </td><td>2016-04-06 19:32:31</td><td>2016-04-06 19:39:40</td><td>1                  </td><td>-74.01004          </td><td>40.71997           </td><td>-74.01227          </td><td>40.70672           </td><td>N                  </td><td> 429               </td></tr>\n\t<tr><td>id2181028          </td><td>2                  </td><td>2016-03-26 13:30:55</td><td>2016-03-26 13:38:10</td><td>1                  </td><td>-73.97305          </td><td>40.79321           </td><td>-73.97292          </td><td>40.78252           </td><td>N                  </td><td> 435               </td></tr>\n\t<tr><td>id0801584          </td><td>2                  </td><td>2016-01-30 22:01:40</td><td>2016-01-30 22:09:03</td><td>6                  </td><td>-73.98286          </td><td>40.74220           </td><td>-73.99208          </td><td>40.74918           </td><td>N                  </td><td> 443               </td></tr>\n</tbody>\n</table>\n", 
                        "text/latex": "\\begin{tabular}{r|lllllllllll}\n id & vendor\\_id & pickup\\_datetime & dropoff\\_datetime & passenger\\_count & pickup\\_longitude & pickup\\_latitude & dropoff\\_longitude & dropoff\\_latitude & store\\_and\\_fwd\\_flag & trip\\_duration\\\\\n\\hline\n\t id2875421           & 2                   & 2016-03-14 17:24:55 & 2016-03-14 17:32:30 & 1                   & -73.98215           & 40.76794            & -73.96463           & 40.76560            & N                   &  455               \\\\\n\t id2377394           & 1                   & 2016-06-12 00:43:35 & 2016-06-12 00:54:38 & 1                   & -73.98042           & 40.73856            & -73.99948           & 40.73115            & N                   &  663               \\\\\n\t id3858529           & 2                   & 2016-01-19 11:35:24 & 2016-01-19 12:10:48 & 1                   & -73.97903           & 40.76394            & -74.00533           & 40.71009            & N                   & 2124               \\\\\n\t id3504673           & 2                   & 2016-04-06 19:32:31 & 2016-04-06 19:39:40 & 1                   & -74.01004           & 40.71997            & -74.01227           & 40.70672            & N                   &  429               \\\\\n\t id2181028           & 2                   & 2016-03-26 13:30:55 & 2016-03-26 13:38:10 & 1                   & -73.97305           & 40.79321            & -73.97292           & 40.78252            & N                   &  435               \\\\\n\t id0801584           & 2                   & 2016-01-30 22:01:40 & 2016-01-30 22:09:03 & 6                   & -73.98286           & 40.74220            & -73.99208           & 40.74918            & N                   &  443               \\\\\n\\end{tabular}\n", 
                        "text/markdown": "\nid | vendor_id | pickup_datetime | dropoff_datetime | passenger_count | pickup_longitude | pickup_latitude | dropoff_longitude | dropoff_latitude | store_and_fwd_flag | trip_duration | \n|---|---|---|---|---|---|\n| id2875421           | 2                   | 2016-03-14 17:24:55 | 2016-03-14 17:32:30 | 1                   | -73.98215           | 40.76794            | -73.96463           | 40.76560            | N                   |  455                | \n| id2377394           | 1                   | 2016-06-12 00:43:35 | 2016-06-12 00:54:38 | 1                   | -73.98042           | 40.73856            | -73.99948           | 40.73115            | N                   |  663                | \n| id3858529           | 2                   | 2016-01-19 11:35:24 | 2016-01-19 12:10:48 | 1                   | -73.97903           | 40.76394            | -74.00533           | 40.71009            | N                   | 2124                | \n| id3504673           | 2                   | 2016-04-06 19:32:31 | 2016-04-06 19:39:40 | 1                   | -74.01004           | 40.71997            | -74.01227           | 40.70672            | N                   |  429                | \n| id2181028           | 2                   | 2016-03-26 13:30:55 | 2016-03-26 13:38:10 | 1                   | -73.97305           | 40.79321            | -73.97292           | 40.78252            | N                   |  435                | \n| id0801584           | 2                   | 2016-01-30 22:01:40 | 2016-01-30 22:09:03 | 6                   | -73.98286           | 40.74220            | -73.99208           | 40.74918            | N                   |  443                | \n\n\n", 
                        "text/plain": "  id        vendor_id pickup_datetime     dropoff_datetime    passenger_count\n1 id2875421 2         2016-03-14 17:24:55 2016-03-14 17:32:30 1              \n2 id2377394 1         2016-06-12 00:43:35 2016-06-12 00:54:38 1              \n3 id3858529 2         2016-01-19 11:35:24 2016-01-19 12:10:48 1              \n4 id3504673 2         2016-04-06 19:32:31 2016-04-06 19:39:40 1              \n5 id2181028 2         2016-03-26 13:30:55 2016-03-26 13:38:10 1              \n6 id0801584 2         2016-01-30 22:01:40 2016-01-30 22:09:03 6              \n  pickup_longitude pickup_latitude dropoff_longitude dropoff_latitude\n1 -73.98215        40.76794        -73.96463         40.76560        \n2 -73.98042        40.73856        -73.99948         40.73115        \n3 -73.97903        40.76394        -74.00533         40.71009        \n4 -74.01004        40.71997        -74.01227         40.70672        \n5 -73.97305        40.79321        -73.97292         40.78252        \n6 -73.98286        40.74220        -73.99208         40.74918        \n  store_and_fwd_flag trip_duration\n1 N                   455         \n2 N                   663         \n3 N                  2124         \n4 N                   429         \n5 N                   435         \n6 N                   443         "
                    }, 
                    "metadata": {}
                }
            ], 
            "source": "head(data)"
        }, 
        {
            "execution_count": 20, 
            "cell_type": "code", 
            "metadata": {}, 
            "outputs": [], 
            "source": "data$pickuptime_hour=format(as.POSIXct(strptime(data$pickup_datetime,\"%Y-%m-%d %H:%M:%S\",tz=\"\")) ,format = \"%H\")"
        }, 
        {
            "execution_count": 21, 
            "cell_type": "code", 
            "metadata": {}, 
            "outputs": [], 
            "source": "data$pickuptime_hour=format(as.POSIXct(strptime(data$pickup_datetime,\"%Y-%m-%d %H:%M:%S\",tz=\"\")) ,format = \"%M\")"
        }, 
        {
            "execution_count": 22, 
            "cell_type": "code", 
            "metadata": {}, 
            "outputs": [], 
            "source": "data$pickuptime_hour=format(as.POSIXct(strptime(data$pickup_datetime,\"%Y-%m-%d %H:%M:%S\",tz=\"\")) ,format = \"%H\")"
        }, 
        {
            "execution_count": 23, 
            "cell_type": "code", 
            "metadata": {}, 
            "outputs": [], 
            "source": "data$pickuptime_minute=format(as.POSIXct(strptime(data$pickup_datetime,\"%Y-%m-%d %H:%M:%S\",tz=\"\")) ,format = \"%M\")"
        }, 
        {
            "execution_count": 24, 
            "cell_type": "code", 
            "metadata": {}, 
            "outputs": [], 
            "source": "data$pickuptime_second=format(as.POSIXct(strptime(data$pickup_datetime,\"%Y-%m-%d %H:%M:%S\",tz=\"\")) ,format = \"%S\")"
        }, 
        {
            "execution_count": 25, 
            "cell_type": "code", 
            "metadata": {}, 
            "outputs": [], 
            "source": "data$pickup_date=as.Date(data$pickup_datetime[1],format=\"%Y-%m-%d %H:%M:%S\")"
        }, 
        {
            "execution_count": 26, 
            "cell_type": "code", 
            "metadata": {}, 
            "outputs": [
                {
                    "output_type": "display_data", 
                    "data": {
                        "text/html": "<table>\n<thead><tr><th scope=col>id</th><th scope=col>vendor_id</th><th scope=col>pickup_datetime</th><th scope=col>dropoff_datetime</th><th scope=col>passenger_count</th><th scope=col>pickup_longitude</th><th scope=col>pickup_latitude</th><th scope=col>dropoff_longitude</th><th scope=col>dropoff_latitude</th><th scope=col>store_and_fwd_flag</th><th scope=col>trip_duration</th><th scope=col>pickuptime_hour</th><th scope=col>pickuptime_minute</th><th scope=col>pickuptime_second</th><th scope=col>pickup_date</th></tr></thead>\n<tbody>\n\t<tr><td>id2875421          </td><td>2                  </td><td>2016-03-14 17:24:55</td><td>2016-03-14 17:32:30</td><td>1                  </td><td>-73.98215          </td><td>40.76794           </td><td>-73.96463          </td><td>40.76560           </td><td>N                  </td><td> 455               </td><td>17                 </td><td>24                 </td><td>55                 </td><td>2016-03-14         </td></tr>\n\t<tr><td>id2377394          </td><td>1                  </td><td>2016-06-12 00:43:35</td><td>2016-06-12 00:54:38</td><td>1                  </td><td>-73.98042          </td><td>40.73856           </td><td>-73.99948          </td><td>40.73115           </td><td>N                  </td><td> 663               </td><td>00                 </td><td>43                 </td><td>35                 </td><td>2016-03-14         </td></tr>\n\t<tr><td>id3858529          </td><td>2                  </td><td>2016-01-19 11:35:24</td><td>2016-01-19 12:10:48</td><td>1                  </td><td>-73.97903          </td><td>40.76394           </td><td>-74.00533          </td><td>40.71009           </td><td>N                  </td><td>2124               </td><td>11                 </td><td>35                 </td><td>24                 </td><td>2016-03-14         </td></tr>\n\t<tr><td>id3504673          </td><td>2                  </td><td>2016-04-06 19:32:31</td><td>2016-04-06 19:39:40</td><td>1                  </td><td>-74.01004          </td><td>40.71997           </td><td>-74.01227          </td><td>40.70672           </td><td>N                  </td><td> 429               </td><td>19                 </td><td>32                 </td><td>31                 </td><td>2016-03-14         </td></tr>\n\t<tr><td>id2181028          </td><td>2                  </td><td>2016-03-26 13:30:55</td><td>2016-03-26 13:38:10</td><td>1                  </td><td>-73.97305          </td><td>40.79321           </td><td>-73.97292          </td><td>40.78252           </td><td>N                  </td><td> 435               </td><td>13                 </td><td>30                 </td><td>55                 </td><td>2016-03-14         </td></tr>\n\t<tr><td>id0801584          </td><td>2                  </td><td>2016-01-30 22:01:40</td><td>2016-01-30 22:09:03</td><td>6                  </td><td>-73.98286          </td><td>40.74220           </td><td>-73.99208          </td><td>40.74918           </td><td>N                  </td><td> 443               </td><td>22                 </td><td>01                 </td><td>40                 </td><td>2016-03-14         </td></tr>\n</tbody>\n</table>\n", 
                        "text/latex": "\\begin{tabular}{r|lllllllllllllll}\n id & vendor\\_id & pickup\\_datetime & dropoff\\_datetime & passenger\\_count & pickup\\_longitude & pickup\\_latitude & dropoff\\_longitude & dropoff\\_latitude & store\\_and\\_fwd\\_flag & trip\\_duration & pickuptime\\_hour & pickuptime\\_minute & pickuptime\\_second & pickup\\_date\\\\\n\\hline\n\t id2875421           & 2                   & 2016-03-14 17:24:55 & 2016-03-14 17:32:30 & 1                   & -73.98215           & 40.76794            & -73.96463           & 40.76560            & N                   &  455                & 17                  & 24                  & 55                  & 2016-03-14         \\\\\n\t id2377394           & 1                   & 2016-06-12 00:43:35 & 2016-06-12 00:54:38 & 1                   & -73.98042           & 40.73856            & -73.99948           & 40.73115            & N                   &  663                & 00                  & 43                  & 35                  & 2016-03-14         \\\\\n\t id3858529           & 2                   & 2016-01-19 11:35:24 & 2016-01-19 12:10:48 & 1                   & -73.97903           & 40.76394            & -74.00533           & 40.71009            & N                   & 2124                & 11                  & 35                  & 24                  & 2016-03-14         \\\\\n\t id3504673           & 2                   & 2016-04-06 19:32:31 & 2016-04-06 19:39:40 & 1                   & -74.01004           & 40.71997            & -74.01227           & 40.70672            & N                   &  429                & 19                  & 32                  & 31                  & 2016-03-14         \\\\\n\t id2181028           & 2                   & 2016-03-26 13:30:55 & 2016-03-26 13:38:10 & 1                   & -73.97305           & 40.79321            & -73.97292           & 40.78252            & N                   &  435                & 13                  & 30                  & 55                  & 2016-03-14         \\\\\n\t id0801584           & 2                   & 2016-01-30 22:01:40 & 2016-01-30 22:09:03 & 6                   & -73.98286           & 40.74220            & -73.99208           & 40.74918            & N                   &  443                & 22                  & 01                  & 40                  & 2016-03-14         \\\\\n\\end{tabular}\n", 
                        "text/markdown": "\nid | vendor_id | pickup_datetime | dropoff_datetime | passenger_count | pickup_longitude | pickup_latitude | dropoff_longitude | dropoff_latitude | store_and_fwd_flag | trip_duration | pickuptime_hour | pickuptime_minute | pickuptime_second | pickup_date | \n|---|---|---|---|---|---|\n| id2875421           | 2                   | 2016-03-14 17:24:55 | 2016-03-14 17:32:30 | 1                   | -73.98215           | 40.76794            | -73.96463           | 40.76560            | N                   |  455                | 17                  | 24                  | 55                  | 2016-03-14          | \n| id2377394           | 1                   | 2016-06-12 00:43:35 | 2016-06-12 00:54:38 | 1                   | -73.98042           | 40.73856            | -73.99948           | 40.73115            | N                   |  663                | 00                  | 43                  | 35                  | 2016-03-14          | \n| id3858529           | 2                   | 2016-01-19 11:35:24 | 2016-01-19 12:10:48 | 1                   | -73.97903           | 40.76394            | -74.00533           | 40.71009            | N                   | 2124                | 11                  | 35                  | 24                  | 2016-03-14          | \n| id3504673           | 2                   | 2016-04-06 19:32:31 | 2016-04-06 19:39:40 | 1                   | -74.01004           | 40.71997            | -74.01227           | 40.70672            | N                   |  429                | 19                  | 32                  | 31                  | 2016-03-14          | \n| id2181028           | 2                   | 2016-03-26 13:30:55 | 2016-03-26 13:38:10 | 1                   | -73.97305           | 40.79321            | -73.97292           | 40.78252            | N                   |  435                | 13                  | 30                  | 55                  | 2016-03-14          | \n| id0801584           | 2                   | 2016-01-30 22:01:40 | 2016-01-30 22:09:03 | 6                   | -73.98286           | 40.74220            | -73.99208           | 40.74918            | N                   |  443                | 22                  | 01                  | 40                  | 2016-03-14          | \n\n\n", 
                        "text/plain": "  id        vendor_id pickup_datetime     dropoff_datetime    passenger_count\n1 id2875421 2         2016-03-14 17:24:55 2016-03-14 17:32:30 1              \n2 id2377394 1         2016-06-12 00:43:35 2016-06-12 00:54:38 1              \n3 id3858529 2         2016-01-19 11:35:24 2016-01-19 12:10:48 1              \n4 id3504673 2         2016-04-06 19:32:31 2016-04-06 19:39:40 1              \n5 id2181028 2         2016-03-26 13:30:55 2016-03-26 13:38:10 1              \n6 id0801584 2         2016-01-30 22:01:40 2016-01-30 22:09:03 6              \n  pickup_longitude pickup_latitude dropoff_longitude dropoff_latitude\n1 -73.98215        40.76794        -73.96463         40.76560        \n2 -73.98042        40.73856        -73.99948         40.73115        \n3 -73.97903        40.76394        -74.00533         40.71009        \n4 -74.01004        40.71997        -74.01227         40.70672        \n5 -73.97305        40.79321        -73.97292         40.78252        \n6 -73.98286        40.74220        -73.99208         40.74918        \n  store_and_fwd_flag trip_duration pickuptime_hour pickuptime_minute\n1 N                   455          17              24               \n2 N                   663          00              43               \n3 N                  2124          11              35               \n4 N                   429          19              32               \n5 N                   435          13              30               \n6 N                   443          22              01               \n  pickuptime_second pickup_date\n1 55                2016-03-14 \n2 35                2016-03-14 \n3 24                2016-03-14 \n4 31                2016-03-14 \n5 55                2016-03-14 \n6 40                2016-03-14 "
                    }, 
                    "metadata": {}
                }
            ], 
            "source": "head(data)"
        }, 
        {
            "execution_count": 27, 
            "cell_type": "code", 
            "metadata": {}, 
            "outputs": [], 
            "source": "data$dropofftime_hour=format(as.POSIXct(strptime(data$dropoff_datetime,\"%Y-%m-%d %H:%M:%S\",tz=\"\")) ,format = \"%H\")"
        }, 
        {
            "execution_count": 28, 
            "cell_type": "code", 
            "metadata": {}, 
            "outputs": [], 
            "source": "data$dropofftime_minute=format(as.POSIXct(strptime(data$dropoff_datetime,\"%Y-%m-%d %H:%M:%S\",tz=\"\")) ,format = \"%M\")"
        }, 
        {
            "execution_count": 29, 
            "cell_type": "code", 
            "metadata": {}, 
            "outputs": [], 
            "source": "data$dropofftime_second=format(as.POSIXct(strptime(data$dropoff_datetime,\"%Y-%m-%d %H:%M:%S\",tz=\"\")) ,format = \"%S\")"
        }, 
        {
            "execution_count": 30, 
            "cell_type": "code", 
            "metadata": {}, 
            "outputs": [], 
            "source": "data$dropoff_date=as.Date(data$dropoff_datetime,format=\"%Y-%m-%d %H:%M:%S\")"
        }, 
        {
            "execution_count": 31, 
            "cell_type": "code", 
            "metadata": {}, 
            "outputs": [], 
            "source": "data$pickup_date=as.Date(data$pickup_datetime,format=\"%Y-%m-%d %H:%M:%S\")"
        }, 
        {
            "execution_count": 32, 
            "cell_type": "code", 
            "metadata": {}, 
            "outputs": [
                {
                    "output_type": "display_data", 
                    "data": {
                        "text/html": "<table>\n<thead><tr><th scope=col>id</th><th scope=col>vendor_id</th><th scope=col>pickup_datetime</th><th scope=col>dropoff_datetime</th><th scope=col>passenger_count</th><th scope=col>pickup_longitude</th><th scope=col>pickup_latitude</th><th scope=col>dropoff_longitude</th><th scope=col>dropoff_latitude</th><th scope=col>store_and_fwd_flag</th><th scope=col>trip_duration</th><th scope=col>pickuptime_hour</th><th scope=col>pickuptime_minute</th><th scope=col>pickuptime_second</th><th scope=col>pickup_date</th><th scope=col>dropofftime_hour</th><th scope=col>dropofftime_minute</th><th scope=col>dropofftime_second</th><th scope=col>dropoff_date</th></tr></thead>\n<tbody>\n\t<tr><td>id2875421          </td><td>2                  </td><td>2016-03-14 17:24:55</td><td>2016-03-14 17:32:30</td><td>1                  </td><td>-73.98215          </td><td>40.76794           </td><td>-73.96463          </td><td>40.76560           </td><td>N                  </td><td> 455               </td><td>17                 </td><td>24                 </td><td>55                 </td><td>2016-03-14         </td><td>17                 </td><td>32                 </td><td>30                 </td><td>2016-03-14         </td></tr>\n\t<tr><td>id2377394          </td><td>1                  </td><td>2016-06-12 00:43:35</td><td>2016-06-12 00:54:38</td><td>1                  </td><td>-73.98042          </td><td>40.73856           </td><td>-73.99948          </td><td>40.73115           </td><td>N                  </td><td> 663               </td><td>00                 </td><td>43                 </td><td>35                 </td><td>2016-06-12         </td><td>00                 </td><td>54                 </td><td>38                 </td><td>2016-06-12         </td></tr>\n\t<tr><td>id3858529          </td><td>2                  </td><td>2016-01-19 11:35:24</td><td>2016-01-19 12:10:48</td><td>1                  </td><td>-73.97903          </td><td>40.76394           </td><td>-74.00533          </td><td>40.71009           </td><td>N                  </td><td>2124               </td><td>11                 </td><td>35                 </td><td>24                 </td><td>2016-01-19         </td><td>12                 </td><td>10                 </td><td>48                 </td><td>2016-01-19         </td></tr>\n\t<tr><td>id3504673          </td><td>2                  </td><td>2016-04-06 19:32:31</td><td>2016-04-06 19:39:40</td><td>1                  </td><td>-74.01004          </td><td>40.71997           </td><td>-74.01227          </td><td>40.70672           </td><td>N                  </td><td> 429               </td><td>19                 </td><td>32                 </td><td>31                 </td><td>2016-04-06         </td><td>19                 </td><td>39                 </td><td>40                 </td><td>2016-04-06         </td></tr>\n\t<tr><td>id2181028          </td><td>2                  </td><td>2016-03-26 13:30:55</td><td>2016-03-26 13:38:10</td><td>1                  </td><td>-73.97305          </td><td>40.79321           </td><td>-73.97292          </td><td>40.78252           </td><td>N                  </td><td> 435               </td><td>13                 </td><td>30                 </td><td>55                 </td><td>2016-03-26         </td><td>13                 </td><td>38                 </td><td>10                 </td><td>2016-03-26         </td></tr>\n\t<tr><td>id0801584          </td><td>2                  </td><td>2016-01-30 22:01:40</td><td>2016-01-30 22:09:03</td><td>6                  </td><td>-73.98286          </td><td>40.74220           </td><td>-73.99208          </td><td>40.74918           </td><td>N                  </td><td> 443               </td><td>22                 </td><td>01                 </td><td>40                 </td><td>2016-01-30         </td><td>22                 </td><td>09                 </td><td>03                 </td><td>2016-01-30         </td></tr>\n</tbody>\n</table>\n", 
                        "text/latex": "\\begin{tabular}{r|lllllllllllllllllll}\n id & vendor\\_id & pickup\\_datetime & dropoff\\_datetime & passenger\\_count & pickup\\_longitude & pickup\\_latitude & dropoff\\_longitude & dropoff\\_latitude & store\\_and\\_fwd\\_flag & trip\\_duration & pickuptime\\_hour & pickuptime\\_minute & pickuptime\\_second & pickup\\_date & dropofftime\\_hour & dropofftime\\_minute & dropofftime\\_second & dropoff\\_date\\\\\n\\hline\n\t id2875421           & 2                   & 2016-03-14 17:24:55 & 2016-03-14 17:32:30 & 1                   & -73.98215           & 40.76794            & -73.96463           & 40.76560            & N                   &  455                & 17                  & 24                  & 55                  & 2016-03-14          & 17                  & 32                  & 30                  & 2016-03-14         \\\\\n\t id2377394           & 1                   & 2016-06-12 00:43:35 & 2016-06-12 00:54:38 & 1                   & -73.98042           & 40.73856            & -73.99948           & 40.73115            & N                   &  663                & 00                  & 43                  & 35                  & 2016-06-12          & 00                  & 54                  & 38                  & 2016-06-12         \\\\\n\t id3858529           & 2                   & 2016-01-19 11:35:24 & 2016-01-19 12:10:48 & 1                   & -73.97903           & 40.76394            & -74.00533           & 40.71009            & N                   & 2124                & 11                  & 35                  & 24                  & 2016-01-19          & 12                  & 10                  & 48                  & 2016-01-19         \\\\\n\t id3504673           & 2                   & 2016-04-06 19:32:31 & 2016-04-06 19:39:40 & 1                   & -74.01004           & 40.71997            & -74.01227           & 40.70672            & N                   &  429                & 19                  & 32                  & 31                  & 2016-04-06          & 19                  & 39                  & 40                  & 2016-04-06         \\\\\n\t id2181028           & 2                   & 2016-03-26 13:30:55 & 2016-03-26 13:38:10 & 1                   & -73.97305           & 40.79321            & -73.97292           & 40.78252            & N                   &  435                & 13                  & 30                  & 55                  & 2016-03-26          & 13                  & 38                  & 10                  & 2016-03-26         \\\\\n\t id0801584           & 2                   & 2016-01-30 22:01:40 & 2016-01-30 22:09:03 & 6                   & -73.98286           & 40.74220            & -73.99208           & 40.74918            & N                   &  443                & 22                  & 01                  & 40                  & 2016-01-30          & 22                  & 09                  & 03                  & 2016-01-30         \\\\\n\\end{tabular}\n", 
                        "text/markdown": "\nid | vendor_id | pickup_datetime | dropoff_datetime | passenger_count | pickup_longitude | pickup_latitude | dropoff_longitude | dropoff_latitude | store_and_fwd_flag | trip_duration | pickuptime_hour | pickuptime_minute | pickuptime_second | pickup_date | dropofftime_hour | dropofftime_minute | dropofftime_second | dropoff_date | \n|---|---|---|---|---|---|\n| id2875421           | 2                   | 2016-03-14 17:24:55 | 2016-03-14 17:32:30 | 1                   | -73.98215           | 40.76794            | -73.96463           | 40.76560            | N                   |  455                | 17                  | 24                  | 55                  | 2016-03-14          | 17                  | 32                  | 30                  | 2016-03-14          | \n| id2377394           | 1                   | 2016-06-12 00:43:35 | 2016-06-12 00:54:38 | 1                   | -73.98042           | 40.73856            | -73.99948           | 40.73115            | N                   |  663                | 00                  | 43                  | 35                  | 2016-06-12          | 00                  | 54                  | 38                  | 2016-06-12          | \n| id3858529           | 2                   | 2016-01-19 11:35:24 | 2016-01-19 12:10:48 | 1                   | -73.97903           | 40.76394            | -74.00533           | 40.71009            | N                   | 2124                | 11                  | 35                  | 24                  | 2016-01-19          | 12                  | 10                  | 48                  | 2016-01-19          | \n| id3504673           | 2                   | 2016-04-06 19:32:31 | 2016-04-06 19:39:40 | 1                   | -74.01004           | 40.71997            | -74.01227           | 40.70672            | N                   |  429                | 19                  | 32                  | 31                  | 2016-04-06          | 19                  | 39                  | 40                  | 2016-04-06          | \n| id2181028           | 2                   | 2016-03-26 13:30:55 | 2016-03-26 13:38:10 | 1                   | -73.97305           | 40.79321            | -73.97292           | 40.78252            | N                   |  435                | 13                  | 30                  | 55                  | 2016-03-26          | 13                  | 38                  | 10                  | 2016-03-26          | \n| id0801584           | 2                   | 2016-01-30 22:01:40 | 2016-01-30 22:09:03 | 6                   | -73.98286           | 40.74220            | -73.99208           | 40.74918            | N                   |  443                | 22                  | 01                  | 40                  | 2016-01-30          | 22                  | 09                  | 03                  | 2016-01-30          | \n\n\n", 
                        "text/plain": "  id        vendor_id pickup_datetime     dropoff_datetime    passenger_count\n1 id2875421 2         2016-03-14 17:24:55 2016-03-14 17:32:30 1              \n2 id2377394 1         2016-06-12 00:43:35 2016-06-12 00:54:38 1              \n3 id3858529 2         2016-01-19 11:35:24 2016-01-19 12:10:48 1              \n4 id3504673 2         2016-04-06 19:32:31 2016-04-06 19:39:40 1              \n5 id2181028 2         2016-03-26 13:30:55 2016-03-26 13:38:10 1              \n6 id0801584 2         2016-01-30 22:01:40 2016-01-30 22:09:03 6              \n  pickup_longitude pickup_latitude dropoff_longitude dropoff_latitude\n1 -73.98215        40.76794        -73.96463         40.76560        \n2 -73.98042        40.73856        -73.99948         40.73115        \n3 -73.97903        40.76394        -74.00533         40.71009        \n4 -74.01004        40.71997        -74.01227         40.70672        \n5 -73.97305        40.79321        -73.97292         40.78252        \n6 -73.98286        40.74220        -73.99208         40.74918        \n  store_and_fwd_flag trip_duration pickuptime_hour pickuptime_minute\n1 N                   455          17              24               \n2 N                   663          00              43               \n3 N                  2124          11              35               \n4 N                   429          19              32               \n5 N                   435          13              30               \n6 N                   443          22              01               \n  pickuptime_second pickup_date dropofftime_hour dropofftime_minute\n1 55                2016-03-14  17               32                \n2 35                2016-06-12  00               54                \n3 24                2016-01-19  12               10                \n4 31                2016-04-06  19               39                \n5 55                2016-03-26  13               38                \n6 40                2016-01-30  22               09                \n  dropofftime_second dropoff_date\n1 30                 2016-03-14  \n2 38                 2016-06-12  \n3 48                 2016-01-19  \n4 40                 2016-04-06  \n5 10                 2016-03-26  \n6 03                 2016-01-30  "
                    }, 
                    "metadata": {}
                }
            ], 
            "source": "head(data)"
        }, 
        {
            "execution_count": 33, 
            "cell_type": "code", 
            "metadata": {}, 
            "outputs": [
                {
                    "output_type": "stream", 
                    "name": "stdout", 
                    "text": "'data.frame':\t1458644 obs. of  19 variables:\n $ id                : Factor w/ 1458644 levels \"id0000001\",\"id0000003\",..: 1049146 867656 1406900 1278210 796093 292638 661964 483844 475304 4611 ...\n $ vendor_id         : int  2 1 2 2 2 2 1 2 1 2 ...\n $ pickup_datetime   : Factor w/ 1380222 levels \"2016-01-01 00:00:17\",..: 551678 1242713 132901 730931 643837 209696 1285977 1082041 1132744 521413 ...\n $ dropoff_datetime  : Factor w/ 1380377 levels \"2016-01-01 00:03:31\",..: 551465 1242869 132996 730737 643622 209505 1286059 1082285 1132790 521374 ...\n $ passenger_count   : int  1 1 1 1 1 6 4 1 1 1 ...\n $ pickup_longitude  : num  -74 -74 -74 -74 -74 ...\n $ pickup_latitude   : num  40.8 40.7 40.8 40.7 40.8 ...\n $ dropoff_longitude : num  -74 -74 -74 -74 -74 ...\n $ dropoff_latitude  : num  40.8 40.7 40.7 40.7 40.8 ...\n $ store_and_fwd_flag: Factor w/ 2 levels \"N\",\"Y\": 1 1 1 1 1 1 1 1 1 1 ...\n $ trip_duration     : int  455 663 2124 429 435 443 341 1551 255 1225 ...\n $ pickuptime_hour   : chr  \"17\" \"00\" \"11\" \"19\" ...\n $ pickuptime_minute : chr  \"24\" \"43\" \"35\" \"32\" ...\n $ pickuptime_second : chr  \"55\" \"35\" \"24\" \"31\" ...\n $ pickup_date       : Date, format: \"2016-03-14\" \"2016-06-12\" ...\n $ dropofftime_hour  : chr  \"17\" \"00\" \"12\" \"19\" ...\n $ dropofftime_minute: chr  \"32\" \"54\" \"10\" \"39\" ...\n $ dropofftime_second: chr  \"30\" \"38\" \"48\" \"40\" ...\n $ dropoff_date      : Date, format: \"2016-03-14\" \"2016-06-12\" ...\n"
                }
            ], 
            "source": "str(data)"
        }, 
        {
            "execution_count": 34, 
            "cell_type": "code", 
            "metadata": {}, 
            "outputs": [
                {
                    "ename": "ERROR", 
                    "evalue": "Error in data$dropofftime_minute[1] - data$pickuptime_minute[1]: non-numeric argument to binary operator\n", 
                    "traceback": [
                        "Error in data$dropofftime_minute[1] - data$pickuptime_minute[1]: non-numeric argument to binary operator\nTraceback:\n"
                    ], 
                    "output_type": "error"
                }
            ], 
            "source": "data$dropofftime_minute[1]-data$pickuptime_minute[1]"
        }, 
        {
            "execution_count": 35, 
            "cell_type": "code", 
            "metadata": {}, 
            "outputs": [
                {
                    "output_type": "display_data", 
                    "data": {
                        "text/html": "8", 
                        "text/latex": "8", 
                        "text/markdown": "8", 
                        "text/plain": "[1] 8"
                    }, 
                    "metadata": {}
                }
            ], 
            "source": "as.numeric(data$dropofftime_minute[1])-as.numeric(data$pickuptime_minute[1])"
        }, 
        {
            "execution_count": 36, 
            "cell_type": "code", 
            "metadata": {}, 
            "outputs": [], 
            "source": "data$dropofftime_minute=as.numeric(data$dropofftime_minute)"
        }, 
        {
            "execution_count": 37, 
            "cell_type": "code", 
            "metadata": {}, 
            "outputs": [], 
            "source": "data$dropofftime_hour=as.numeric(data$dropofftime_hour)"
        }, 
        {
            "execution_count": 38, 
            "cell_type": "code", 
            "metadata": {}, 
            "outputs": [], 
            "source": "data$dropofftime_second=as.numeric(data$dropofftime_second)"
        }, 
        {
            "execution_count": 39, 
            "cell_type": "code", 
            "metadata": {}, 
            "outputs": [], 
            "source": "data$pickuptime_minute=as.numeric(data$pickuptime_minute)"
        }, 
        {
            "execution_count": 40, 
            "cell_type": "code", 
            "metadata": {}, 
            "outputs": [], 
            "source": "data$pickuptime_hour=as.numeric(data$pickuptime_hour)"
        }, 
        {
            "execution_count": 41, 
            "cell_type": "code", 
            "metadata": {}, 
            "outputs": [], 
            "source": "data$pickuptime_second=as.numeric(data$pickuptime_second)"
        }, 
        {
            "execution_count": 42, 
            "cell_type": "code", 
            "metadata": {}, 
            "outputs": [
                {
                    "output_type": "display_data", 
                    "data": {
                        "text/html": "<table>\n<thead><tr><th scope=col>id</th><th scope=col>vendor_id</th><th scope=col>pickup_datetime</th><th scope=col>dropoff_datetime</th><th scope=col>passenger_count</th><th scope=col>pickup_longitude</th><th scope=col>pickup_latitude</th><th scope=col>dropoff_longitude</th><th scope=col>dropoff_latitude</th><th scope=col>store_and_fwd_flag</th><th scope=col>trip_duration</th><th scope=col>pickuptime_hour</th><th scope=col>pickuptime_minute</th><th scope=col>pickuptime_second</th><th scope=col>pickup_date</th><th scope=col>dropofftime_hour</th><th scope=col>dropofftime_minute</th><th scope=col>dropofftime_second</th><th scope=col>dropoff_date</th></tr></thead>\n<tbody>\n\t<tr><td>id2875421          </td><td>2                  </td><td>2016-03-14 17:24:55</td><td>2016-03-14 17:32:30</td><td>1                  </td><td>-73.98215          </td><td>40.76794           </td><td>-73.96463          </td><td>40.76560           </td><td>N                  </td><td> 455               </td><td>17                 </td><td>24                 </td><td>55                 </td><td>2016-03-14         </td><td>17                 </td><td>32                 </td><td>30                 </td><td>2016-03-14         </td></tr>\n\t<tr><td>id2377394          </td><td>1                  </td><td>2016-06-12 00:43:35</td><td>2016-06-12 00:54:38</td><td>1                  </td><td>-73.98042          </td><td>40.73856           </td><td>-73.99948          </td><td>40.73115           </td><td>N                  </td><td> 663               </td><td> 0                 </td><td>43                 </td><td>35                 </td><td>2016-06-12         </td><td> 0                 </td><td>54                 </td><td>38                 </td><td>2016-06-12         </td></tr>\n\t<tr><td>id3858529          </td><td>2                  </td><td>2016-01-19 11:35:24</td><td>2016-01-19 12:10:48</td><td>1                  </td><td>-73.97903          </td><td>40.76394           </td><td>-74.00533          </td><td>40.71009           </td><td>N                  </td><td>2124               </td><td>11                 </td><td>35                 </td><td>24                 </td><td>2016-01-19         </td><td>12                 </td><td>10                 </td><td>48                 </td><td>2016-01-19         </td></tr>\n\t<tr><td>id3504673          </td><td>2                  </td><td>2016-04-06 19:32:31</td><td>2016-04-06 19:39:40</td><td>1                  </td><td>-74.01004          </td><td>40.71997           </td><td>-74.01227          </td><td>40.70672           </td><td>N                  </td><td> 429               </td><td>19                 </td><td>32                 </td><td>31                 </td><td>2016-04-06         </td><td>19                 </td><td>39                 </td><td>40                 </td><td>2016-04-06         </td></tr>\n\t<tr><td>id2181028          </td><td>2                  </td><td>2016-03-26 13:30:55</td><td>2016-03-26 13:38:10</td><td>1                  </td><td>-73.97305          </td><td>40.79321           </td><td>-73.97292          </td><td>40.78252           </td><td>N                  </td><td> 435               </td><td>13                 </td><td>30                 </td><td>55                 </td><td>2016-03-26         </td><td>13                 </td><td>38                 </td><td>10                 </td><td>2016-03-26         </td></tr>\n\t<tr><td>id0801584          </td><td>2                  </td><td>2016-01-30 22:01:40</td><td>2016-01-30 22:09:03</td><td>6                  </td><td>-73.98286          </td><td>40.74220           </td><td>-73.99208          </td><td>40.74918           </td><td>N                  </td><td> 443               </td><td>22                 </td><td> 1                 </td><td>40                 </td><td>2016-01-30         </td><td>22                 </td><td> 9                 </td><td> 3                 </td><td>2016-01-30         </td></tr>\n</tbody>\n</table>\n", 
                        "text/latex": "\\begin{tabular}{r|lllllllllllllllllll}\n id & vendor\\_id & pickup\\_datetime & dropoff\\_datetime & passenger\\_count & pickup\\_longitude & pickup\\_latitude & dropoff\\_longitude & dropoff\\_latitude & store\\_and\\_fwd\\_flag & trip\\_duration & pickuptime\\_hour & pickuptime\\_minute & pickuptime\\_second & pickup\\_date & dropofftime\\_hour & dropofftime\\_minute & dropofftime\\_second & dropoff\\_date\\\\\n\\hline\n\t id2875421           & 2                   & 2016-03-14 17:24:55 & 2016-03-14 17:32:30 & 1                   & -73.98215           & 40.76794            & -73.96463           & 40.76560            & N                   &  455                & 17                  & 24                  & 55                  & 2016-03-14          & 17                  & 32                  & 30                  & 2016-03-14         \\\\\n\t id2377394           & 1                   & 2016-06-12 00:43:35 & 2016-06-12 00:54:38 & 1                   & -73.98042           & 40.73856            & -73.99948           & 40.73115            & N                   &  663                &  0                  & 43                  & 35                  & 2016-06-12          &  0                  & 54                  & 38                  & 2016-06-12         \\\\\n\t id3858529           & 2                   & 2016-01-19 11:35:24 & 2016-01-19 12:10:48 & 1                   & -73.97903           & 40.76394            & -74.00533           & 40.71009            & N                   & 2124                & 11                  & 35                  & 24                  & 2016-01-19          & 12                  & 10                  & 48                  & 2016-01-19         \\\\\n\t id3504673           & 2                   & 2016-04-06 19:32:31 & 2016-04-06 19:39:40 & 1                   & -74.01004           & 40.71997            & -74.01227           & 40.70672            & N                   &  429                & 19                  & 32                  & 31                  & 2016-04-06          & 19                  & 39                  & 40                  & 2016-04-06         \\\\\n\t id2181028           & 2                   & 2016-03-26 13:30:55 & 2016-03-26 13:38:10 & 1                   & -73.97305           & 40.79321            & -73.97292           & 40.78252            & N                   &  435                & 13                  & 30                  & 55                  & 2016-03-26          & 13                  & 38                  & 10                  & 2016-03-26         \\\\\n\t id0801584           & 2                   & 2016-01-30 22:01:40 & 2016-01-30 22:09:03 & 6                   & -73.98286           & 40.74220            & -73.99208           & 40.74918            & N                   &  443                & 22                  &  1                  & 40                  & 2016-01-30          & 22                  &  9                  &  3                  & 2016-01-30         \\\\\n\\end{tabular}\n", 
                        "text/markdown": "\nid | vendor_id | pickup_datetime | dropoff_datetime | passenger_count | pickup_longitude | pickup_latitude | dropoff_longitude | dropoff_latitude | store_and_fwd_flag | trip_duration | pickuptime_hour | pickuptime_minute | pickuptime_second | pickup_date | dropofftime_hour | dropofftime_minute | dropofftime_second | dropoff_date | \n|---|---|---|---|---|---|\n| id2875421           | 2                   | 2016-03-14 17:24:55 | 2016-03-14 17:32:30 | 1                   | -73.98215           | 40.76794            | -73.96463           | 40.76560            | N                   |  455                | 17                  | 24                  | 55                  | 2016-03-14          | 17                  | 32                  | 30                  | 2016-03-14          | \n| id2377394           | 1                   | 2016-06-12 00:43:35 | 2016-06-12 00:54:38 | 1                   | -73.98042           | 40.73856            | -73.99948           | 40.73115            | N                   |  663                |  0                  | 43                  | 35                  | 2016-06-12          |  0                  | 54                  | 38                  | 2016-06-12          | \n| id3858529           | 2                   | 2016-01-19 11:35:24 | 2016-01-19 12:10:48 | 1                   | -73.97903           | 40.76394            | -74.00533           | 40.71009            | N                   | 2124                | 11                  | 35                  | 24                  | 2016-01-19          | 12                  | 10                  | 48                  | 2016-01-19          | \n| id3504673           | 2                   | 2016-04-06 19:32:31 | 2016-04-06 19:39:40 | 1                   | -74.01004           | 40.71997            | -74.01227           | 40.70672            | N                   |  429                | 19                  | 32                  | 31                  | 2016-04-06          | 19                  | 39                  | 40                  | 2016-04-06          | \n| id2181028           | 2                   | 2016-03-26 13:30:55 | 2016-03-26 13:38:10 | 1                   | -73.97305           | 40.79321            | -73.97292           | 40.78252            | N                   |  435                | 13                  | 30                  | 55                  | 2016-03-26          | 13                  | 38                  | 10                  | 2016-03-26          | \n| id0801584           | 2                   | 2016-01-30 22:01:40 | 2016-01-30 22:09:03 | 6                   | -73.98286           | 40.74220            | -73.99208           | 40.74918            | N                   |  443                | 22                  |  1                  | 40                  | 2016-01-30          | 22                  |  9                  |  3                  | 2016-01-30          | \n\n\n", 
                        "text/plain": "  id        vendor_id pickup_datetime     dropoff_datetime    passenger_count\n1 id2875421 2         2016-03-14 17:24:55 2016-03-14 17:32:30 1              \n2 id2377394 1         2016-06-12 00:43:35 2016-06-12 00:54:38 1              \n3 id3858529 2         2016-01-19 11:35:24 2016-01-19 12:10:48 1              \n4 id3504673 2         2016-04-06 19:32:31 2016-04-06 19:39:40 1              \n5 id2181028 2         2016-03-26 13:30:55 2016-03-26 13:38:10 1              \n6 id0801584 2         2016-01-30 22:01:40 2016-01-30 22:09:03 6              \n  pickup_longitude pickup_latitude dropoff_longitude dropoff_latitude\n1 -73.98215        40.76794        -73.96463         40.76560        \n2 -73.98042        40.73856        -73.99948         40.73115        \n3 -73.97903        40.76394        -74.00533         40.71009        \n4 -74.01004        40.71997        -74.01227         40.70672        \n5 -73.97305        40.79321        -73.97292         40.78252        \n6 -73.98286        40.74220        -73.99208         40.74918        \n  store_and_fwd_flag trip_duration pickuptime_hour pickuptime_minute\n1 N                   455          17              24               \n2 N                   663           0              43               \n3 N                  2124          11              35               \n4 N                   429          19              32               \n5 N                   435          13              30               \n6 N                   443          22               1               \n  pickuptime_second pickup_date dropofftime_hour dropofftime_minute\n1 55                2016-03-14  17               32                \n2 35                2016-06-12   0               54                \n3 24                2016-01-19  12               10                \n4 31                2016-04-06  19               39                \n5 55                2016-03-26  13               38                \n6 40                2016-01-30  22                9                \n  dropofftime_second dropoff_date\n1 30                 2016-03-14  \n2 38                 2016-06-12  \n3 48                 2016-01-19  \n4 40                 2016-04-06  \n5 10                 2016-03-26  \n6  3                 2016-01-30  "
                    }, 
                    "metadata": {}
                }
            ], 
            "source": "head(data)"
        }, 
        {
            "execution_count": 43, 
            "cell_type": "code", 
            "metadata": {}, 
            "outputs": [
                {
                    "output_type": "stream", 
                    "name": "stdout", 
                    "text": "'data.frame':\t1458644 obs. of  19 variables:\n $ id                : Factor w/ 1458644 levels \"id0000001\",\"id0000003\",..: 1049146 867656 1406900 1278210 796093 292638 661964 483844 475304 4611 ...\n $ vendor_id         : int  2 1 2 2 2 2 1 2 1 2 ...\n $ pickup_datetime   : Factor w/ 1380222 levels \"2016-01-01 00:00:17\",..: 551678 1242713 132901 730931 643837 209696 1285977 1082041 1132744 521413 ...\n $ dropoff_datetime  : Factor w/ 1380377 levels \"2016-01-01 00:03:31\",..: 551465 1242869 132996 730737 643622 209505 1286059 1082285 1132790 521374 ...\n $ passenger_count   : int  1 1 1 1 1 6 4 1 1 1 ...\n $ pickup_longitude  : num  -74 -74 -74 -74 -74 ...\n $ pickup_latitude   : num  40.8 40.7 40.8 40.7 40.8 ...\n $ dropoff_longitude : num  -74 -74 -74 -74 -74 ...\n $ dropoff_latitude  : num  40.8 40.7 40.7 40.7 40.8 ...\n $ store_and_fwd_flag: Factor w/ 2 levels \"N\",\"Y\": 1 1 1 1 1 1 1 1 1 1 ...\n $ trip_duration     : int  455 663 2124 429 435 443 341 1551 255 1225 ...\n $ pickuptime_hour   : num  17 0 11 19 13 22 22 7 23 21 ...\n $ pickuptime_minute : num  24 43 35 32 30 1 34 54 12 45 ...\n $ pickuptime_second : num  55 35 24 31 55 40 59 58 23 1 ...\n $ pickup_date       : Date, format: \"2016-03-14\" \"2016-06-12\" ...\n $ dropofftime_hour  : num  17 0 12 19 13 22 22 8 23 22 ...\n $ dropofftime_minute: num  32 54 10 39 38 9 40 20 16 5 ...\n $ dropofftime_second: num  30 38 48 40 10 3 40 49 38 26 ...\n $ dropoff_date      : Date, format: \"2016-03-14\" \"2016-06-12\" ...\n"
                }
            ], 
            "source": "str(data)"
        }, 
        {
            "execution_count": 44, 
            "cell_type": "code", 
            "metadata": {}, 
            "outputs": [
                {
                    "output_type": "display_data", 
                    "data": {
                        "text/html": "8", 
                        "text/latex": "8", 
                        "text/markdown": "8", 
                        "text/plain": "[1] 8"
                    }, 
                    "metadata": {}
                }
            ], 
            "source": "data$dropofftime_minute[1]-data$pickuptime_minute[1]"
        }, 
        {
            "execution_count": 45, 
            "cell_type": "code", 
            "metadata": {}, 
            "outputs": [
                {
                    "output_type": "display_data", 
                    "data": {
                        "text/html": "", 
                        "text/latex": "", 
                        "text/markdown": "", 
                        "text/plain": "integer(0)"
                    }, 
                    "metadata": {}
                }
            ], 
            "source": "data$dropofftime_longitude[1]-data$pickuptime_longitude[1]"
        }, 
        {
            "execution_count": 3, 
            "cell_type": "code", 
            "metadata": {}, 
            "outputs": [
                {
                    "output_type": "display_data", 
                    "data": {
                        "text/plain": "                                                                     \n1 function (..., list = character(), package = NULL, lib.loc = NULL, \n2     verbose = getOption(\"verbose\"), envir = .GlobalEnv)            \n3 {                                                                  \n4     fileExt <- function(x) {                                       \n5         db <- grepl(\"\\\\\\\\.[^.]+\\\\\\\\.(gz|bz2|xz)$\", x)              \n6         ans <- sub(\".*\\\\\\\\.\", \"\", x)                               "
                    }, 
                    "metadata": {}
                }
            ], 
            "source": "head(data)"
        }, 
        {
            "execution_count": null, 
            "cell_type": "code", 
            "metadata": {}, 
            "outputs": [], 
            "source": ""
        }
    ], 
    "metadata": {
        "kernelspec": {
            "display_name": "R", 
            "name": "r", 
            "language": "R"
        }, 
        "language_info": {
            "mimetype": "text/x-r-source", 
            "version": "3.4.2", 
            "name": "R", 
            "pygments_lexer": "r", 
            "file_extension": ".r", 
            "codemirror_mode": "r"
        }
    }, 
    "nbformat": 4
}